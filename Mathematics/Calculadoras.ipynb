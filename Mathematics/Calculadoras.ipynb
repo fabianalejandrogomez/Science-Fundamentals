{
  "cells": [
    {
      "metadata": {
        "collapsed": true
      },
      "cell_type": "markdown",
      "source": "## HP Prime Graphing Calculator"
    },
    {
      "metadata": {},
      "cell_type": "markdown",
      "source": "## Casio fx-CG500 PRIZM"
    },
    {
      "metadata": {},
      "cell_type": "markdown",
      "source": "## Texas Instruments Nspire CX CAS"
    },
    {
      "metadata": {
        "trusted": true
      },
      "cell_type": "code",
      "source": "",
      "execution_count": null,
      "outputs": []
    }
  ],
  "metadata": {
    "kernelspec": {
      "name": "python36",
      "display_name": "Python 3.6",
      "language": "python"
    },
    "language_info": {
      "mimetype": "text/x-python",
      "nbconvert_exporter": "python",
      "name": "python",
      "pygments_lexer": "ipython3",
      "version": "3.6.6",
      "file_extension": ".py",
      "codemirror_mode": {
        "version": 3,
        "name": "ipython"
      }
    }
  },
  "nbformat": 4,
  "nbformat_minor": 2
}