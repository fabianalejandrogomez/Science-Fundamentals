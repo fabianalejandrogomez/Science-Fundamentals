{
  "cells": [
    {
      "metadata": {
        "collapsed": true
      },
      "cell_type": "markdown",
      "source": "## Conjuntos\n\n- Una coleccion de “objetos” que poseen alguna propiedad en comun. \n\n- Los objetos que conforman un conjunto son llamados elementos.\n\nUsualmente se usan letras mayusculas para denotar al conjunto, y letras minusculas para sus elementos\n\nUn conjunto puede definirse de las dos siguientes maneras:\n- **por extension:** enumerando todos y cada uno de sus elementos\n\n*A* = {a, e, i, o, u}\n\n- **por comprension:** diciendo cual es la propiedad que los caracteriza.\n\n*A* = {las vocales}\n\no bien \n\n*A* = {*x*: *x* es vocal}\n\nEn el ultimo caso se lee “A es el conjunto de todas las x tal que x es vocal”, \nes decir, los dos puntos se leen como “tal que”.\n\nNotar que un conjunto se denota encerrando entre llaves a sus elementos (separando los mismos con comas si se define por extension)\no a su propiedad caracterıstica (si se define por comprension)."
    },
    {
      "metadata": {
        "trusted": true
      },
      "cell_type": "markdown",
      "source": "## Elementos\nSi x es un elemento de un conjunto A dado, se dice que x pertenece a A, y\nse denota\n\n*x* $\\in$ *A*\n\nEn caso contrario, si x no es un elemento de A, se denota\n\n*x* $\\notin$ *A*\n\nPor ejemplo, para el caso del conjunto A de las vocales tenemos que e $\\in$ A, pero m $\\notin$ A."
    },
    {
      "metadata": {},
      "cell_type": "markdown",
      "source": "## Igualdad de Conjuntos\n\nSe dice que dos conjuntos\n\n*A* y *B* son iguales si ambos tienen exactamente los mismos elementos\n\nEn tal caso escribimos *A* = *B*. \n\nNotar que los siguientes conjuntos son iguales\n\n- *A* = {a, e, i, o, u}\n- *B* = {i, o, u, a, e}\n- *C* = {a, o, e, a, o, u, i}\n\nya que al definir un conjunto no importa en que orden se listen los elementos ni cuantas veces se repita a cada uno. \n\nLuego, *A* = *B* = *C*."
    },
    {
      "metadata": {},
      "cell_type": "markdown",
      "source": "## Inclusion\n\nSe dice que un conjunto *A* esta incluido (o contenido) en otro conjunto *B*, \n\nsi todo elemento de *A* es tambien elemento de *B*. Si esto ocurre, se denota por\n\n*A* $\\subseteq$ *B*\n\nTambien suele decirse que *A* es subconjunto de *B*. \n\nPor ejemplo, si como antes\n*A* es el conjunto de las vocales, y *B* es el conjunto de todas las letras del abecedario, entonces *A* $\\subseteq$ *B*. Tambien {e} $\\subseteq$ *A*."
    },
    {
      "metadata": {
        "trusted": true
      },
      "cell_type": "code",
      "source": "",
      "execution_count": null,
      "outputs": []
    }
  ],
  "metadata": {
    "kernelspec": {
      "name": "python36",
      "display_name": "Python 3.6",
      "language": "python"
    },
    "language_info": {
      "mimetype": "text/x-python",
      "nbconvert_exporter": "python",
      "name": "python",
      "pygments_lexer": "ipython3",
      "version": "3.6.6",
      "file_extension": ".py",
      "codemirror_mode": {
        "version": 3,
        "name": "ipython"
      }
    }
  },
  "nbformat": 4,
  "nbformat_minor": 2
}