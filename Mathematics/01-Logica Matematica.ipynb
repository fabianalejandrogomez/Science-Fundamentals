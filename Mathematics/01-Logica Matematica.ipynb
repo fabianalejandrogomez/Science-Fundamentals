{
  "cells": [
    {
      "metadata": {
        "collapsed": true
      },
      "cell_type": "markdown",
      "source": "## Si A, entonces B. \n\nCuando un enunciado de este tipo es verdadero,\nsignifica que si el enunciado A es verdad, entonces tambien lo es B.\n\nNo establece nada para cuando A es falso.\n\nTampoco significa que si B es verdadero, entonces A tambien. \n\nSe denota como A $\\Longrightarrow$ B, \n\ny se lee tambien como “A implica B”.\n"
    },
    {
      "metadata": {},
      "cell_type": "markdown",
      "source": "## A si y solo si B. \nEste conectivo se utiliza para relacionar dos enunciados matematicos, \ny significa que la validez de cualquiera de ellos implica la validez del otro. \n\nEsto se denota simbolicamente como\nA $\\Longleftrightarrow$ B, \n\nya que significa ambas cosas a la vez: A$\\Longrightarrow$ B y B$\\Longrightarrow$ A."
    },
    {
      "metadata": {
        "trusted": true
      },
      "cell_type": "markdown",
      "source": ""
    },
    {
      "metadata": {},
      "cell_type": "markdown",
      "source": ""
    },
    {
      "metadata": {
        "trusted": true
      },
      "cell_type": "code",
      "source": "",
      "execution_count": null,
      "outputs": []
    }
  ],
  "metadata": {
    "kernelspec": {
      "name": "python36",
      "display_name": "Python 3.6",
      "language": "python"
    },
    "language_info": {
      "mimetype": "text/x-python",
      "nbconvert_exporter": "python",
      "name": "python",
      "pygments_lexer": "ipython3",
      "version": "3.6.6",
      "file_extension": ".py",
      "codemirror_mode": {
        "version": 3,
        "name": "ipython"
      }
    }
  },
  "nbformat": 4,
  "nbformat_minor": 2
}