{
  "cells": [
    {
      "metadata": {
        "collapsed": true
      },
      "cell_type": "markdown",
      "source": "https://manualdelatex.com/simbolos/in\n\nhttps://tug.org/FontCatalogue/\n    \n/Volumes/PRINCIPAL/PARADIGMA/03-MATEMATICA/3-Tools/2017_Book_LaTeXIn24Hours.pdf\n\nhttp://192.168.0.2:8080/share.cgi?ssid=098oC1i\n    \nhttps://www.markdownguide.org/basic-syntax/\n"
    },
    {
      "metadata": {
        "trusted": true
      },
      "cell_type": "code",
      "source": "",
      "execution_count": null,
      "outputs": []
    }
  ],
  "metadata": {
    "kernelspec": {
      "name": "python36",
      "display_name": "Python 3.6",
      "language": "python"
    },
    "language_info": {
      "mimetype": "text/x-python",
      "nbconvert_exporter": "python",
      "name": "python",
      "pygments_lexer": "ipython3",
      "version": "3.6.6",
      "file_extension": ".py",
      "codemirror_mode": {
        "version": 3,
        "name": "ipython"
      }
    }
  },
  "nbformat": 4,
  "nbformat_minor": 2
}